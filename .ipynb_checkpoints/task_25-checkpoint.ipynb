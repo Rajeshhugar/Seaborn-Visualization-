{
 "cells": [
  {
   "cell_type": "code",
   "execution_count": null,
   "metadata": {
    "id": "T-oRHtiffykk"
   },
   "outputs": [],
   "source": [
    "import pandas as pd\n",
    "import numpy as np\n",
    "\n",
    "import matplotlib.pyplot as plt\n",
    "import seaborn as sns\n",
    "\n",
    "plt.style.use(\"ggplot\")"
   ]
  },
  {
   "cell_type": "markdown",
   "metadata": {
    "id": "YLYT44a8f4yr"
   },
   "source": [
    "### `Q-1:` Using Gapminder Data\n",
    "1. Create a scatter plot of 'gdpPercap' against 'lifeExp' for the year 2007, with the size of the markers determined by 'pop' and the color determined by 'continent'."
   ]
  },
  {
   "cell_type": "code",
   "execution_count": null,
   "metadata": {
    "id": "d7fXEr7Sf4KV"
   },
   "outputs": [],
   "source": [
    "# code here"
   ]
  },
  {
   "cell_type": "markdown",
   "metadata": {
    "id": "w_HQE1vIgAjy"
   },
   "source": [
    "### `Q-2-3:` Using `flights` dataset of seaborn.\n",
    "\n",
    "2. Using the \"flights\" dataset that comes with seaborn, create a heatmap that shows the average number of passengers per month for each year.\n",
    "\n",
    "3. Using the seaborn's flight dataset, create a clustermap to visualize the relationship between the number of passengers, months, and year.\n"
   ]
  },
  {
   "cell_type": "code",
   "execution_count": null,
   "metadata": {
    "id": "_PtsQZWpgHJc"
   },
   "outputs": [],
   "source": [
    "# code here"
   ]
  },
  {
   "cell_type": "markdown",
   "metadata": {
    "id": "P-iMGKHVgJA4"
   },
   "source": [
    "## For questions 4-8:\n",
    "\n",
    "For these qestions, an insurance dataset is used. You can get details from [here](https://www.kaggle.com/datasets/thedevastator/insurance-claim-analysis-demographic-and-health). And if you want this dataset to use directly, then you can use this link: **https://docs.google.com/spreadsheets/d/e/2PACX-1vQVpcVtdYdZU4zU4-lqxt-iPHkyndDWs_aqEDUu9ZodlJ48Dku0PFgdXlj2N5RCmwXJrNtZLsI_wEVf/pub?gid=220677750&single=true&output=csv**"
   ]
  },
  {
   "cell_type": "markdown",
   "metadata": {
    "id": "WyRz6yw8gWda"
   },
   "source": [
    "### **`Q-4:`** Draw a scatter plot based on the below conditions:\n",
    "1. x-axis should be \"age\" and y-axis should be \"bmi\".\n",
    "2. For hue, size and style parameters use \"diabetic\", \"gender\" and \"smoker\" column respectively.\n",
    "3. Add title to your chart.\n",
    "4. Age should be less than 70 percentiles.\n",
    "5. BMI should be greater than the average value of the filtered age dataset."
   ]
  },
  {
   "cell_type": "code",
   "execution_count": null,
   "metadata": {
    "id": "baLhKFOdgS62"
   },
   "outputs": [],
   "source": [
    "# code here"
   ]
  },
  {
   "cell_type": "markdown",
   "metadata": {
    "id": "pWKa09ougZ3Q"
   },
   "source": [
    "### **`Q-5:`** Draw a line plot by using the below informations\n",
    "\n",
    "1. bloodpressure vs children\n",
    "2. Blood-pressure values should be between 90 and 100. The upper and lower limit are included.\n",
    "3. Show the details of \"smoker\". "
   ]
  },
  {
   "cell_type": "code",
   "execution_count": null,
   "metadata": {
    "id": "Qk-MRrTdgdRY"
   },
   "outputs": [],
   "source": [
    "# Code here"
   ]
  },
  {
   "cell_type": "markdown",
   "metadata": {
    "id": "6a-L5fCYggMx"
   },
   "source": [
    "### **`Q-6:`** Draw a histogram using displot\n",
    "\n",
    "- based on \"age\" column.\n",
    "- Show details of \"smoker\" (hue).\n",
    "- Create 2 separate charts for the above 2 conditions based on \"gender\" side-by-side."
   ]
  },
  {
   "cell_type": "code",
   "execution_count": null,
   "metadata": {
    "id": "1WxS15mBgjht"
   },
   "outputs": [],
   "source": [
    "# code here"
   ]
  },
  {
   "cell_type": "markdown",
   "metadata": {
    "id": "D3L4ERYZglIJ"
   },
   "source": [
    "### **`Q-7:`** Draw a kde plot between \"age\" and \"bloodpressure\"."
   ]
  },
  {
   "cell_type": "code",
   "execution_count": null,
   "metadata": {
    "id": "LebQKGJvgoWu"
   },
   "outputs": [],
   "source": [
    "# code here"
   ]
  },
  {
   "cell_type": "markdown",
   "metadata": {
    "id": "-uuZXBuqgpzo"
   },
   "source": [
    "### **`Q-8:`** Draw a clustermap between between \"age\", \"bmi\" and \"bloodpressure\"."
   ]
  },
  {
   "cell_type": "code",
   "execution_count": null,
   "metadata": {
    "id": "jlly0VnjgsIU"
   },
   "outputs": [],
   "source": [
    "# code here"
   ]
  }
 ],
 "metadata": {
  "colab": {
   "provenance": []
  },
  "hide_input": false,
  "kernelspec": {
   "display_name": "Python 3 (ipykernel)",
   "language": "python",
   "name": "python3"
  },
  "language_info": {
   "codemirror_mode": {
    "name": "ipython",
    "version": 3
   },
   "file_extension": ".py",
   "mimetype": "text/x-python",
   "name": "python",
   "nbconvert_exporter": "python",
   "pygments_lexer": "ipython3",
   "version": "3.9.12"
  },
  "nbTranslate": {
   "displayLangs": [
    "*"
   ],
   "hotkey": "alt-t",
   "langInMainMenu": true,
   "sourceLang": "en",
   "targetLang": "fr",
   "useGoogleTranslate": true
  },
  "toc": {
   "base_numbering": 1,
   "nav_menu": {},
   "number_sections": true,
   "sideBar": true,
   "skip_h1_title": false,
   "title_cell": "Table of Contents",
   "title_sidebar": "Contents",
   "toc_cell": false,
   "toc_position": {},
   "toc_section_display": true,
   "toc_window_display": false
  }
 },
 "nbformat": 4,
 "nbformat_minor": 1
}
